{
 "cells": [
  {
   "cell_type": "markdown",
   "metadata": {},
   "source": [
    "Modeling"
   ]
  },
  {
   "cell_type": "markdown",
   "metadata": {},
   "source": [
    "Import libraries"
   ]
  },
  {
   "cell_type": "code",
   "execution_count": 7,
   "metadata": {},
   "outputs": [
    {
     "data": {
      "application/javascript": "IPython.notebook.set_autosave_interval(30000)"
     },
     "metadata": {},
     "output_type": "display_data"
    },
    {
     "name": "stdout",
     "output_type": "stream",
     "text": [
      "Autosaving every 30 seconds\n"
     ]
    }
   ],
   "source": [
    "import pandas as pd\n",
    "import numpy as np\n",
    "%matplotlib inline\n",
    "import matplotlib.pyplot as plt\n",
    "import seaborn as sns\n",
    "color = sns.color_palette()\n",
    "sns.set_style('darkgrid')\n",
    "\n",
    "from sklearn.linear_model import ElasticNet, LassoCV, BayesianRidge, RidgeCV, Lasso, Ridge\n",
    "from sklearn.ensemble import RandomForestRegressor, GradientBoostingRegressor\n",
    "from sklearn.svm import SVR\n",
    "from sklearn.kernel_ridge import KernelRidge\n",
    "from sklearn.pipeline import make_pipeline\n",
    "from sklearn.preprocessing import RobustScaler\n",
    "from sklearn.base import BaseEstimator, TransformerMixin, RegressorMixin, clone\n",
    "from sklearn.model_selection import KFold, cross_val_score, train_test_split, GridSearchCV, RandomizedSearchCV\n",
    "from sklearn.metrics import mean_squared_error\n",
    "import xgboost as xgb\n",
    "\n",
    "pd.set_option('display.float_format', lambda x: '{:.3f}'.format(x))\n",
    "%autosave 30"
   ]
  },
  {
   "cell_type": "markdown",
   "metadata": {},
   "source": [
    "Reading our data"
   ]
  },
  {
   "cell_type": "code",
   "execution_count": 8,
   "metadata": {},
   "outputs": [
    {
     "name": "stdout",
     "output_type": "stream",
     "text": [
      "(1457, 512)\n",
      "(1459, 511)\n"
     ]
    }
   ],
   "source": [
    "train = pd.read_csv(\"../data/train_new.csv\")\n",
    "X_test = pd.read_csv(\"../data/test_new.csv\")\n",
    "Id_test = pd.read_csv(\"../data/test.csv\")[\"Id\"]\n",
    "print(train.shape)\n",
    "print(X_test.shape)"
   ]
  },
  {
   "cell_type": "markdown",
   "metadata": {},
   "source": [
    "Split data in features and labels"
   ]
  },
  {
   "cell_type": "code",
   "execution_count": 9,
   "metadata": {},
   "outputs": [
    {
     "name": "stdout",
     "output_type": "stream",
     "text": [
      "(1457, 511)\n",
      "(1457,)\n"
     ]
    }
   ],
   "source": [
    "X_train = train.drop(\"SalePrice\", axis=1)\n",
    "y_train =train[\"SalePrice\"]\n",
    "print(X_train.shape)\n",
    "print(y_train.shape)\n"
   ]
  },
  {
   "cell_type": "markdown",
   "metadata": {},
   "source": [
    "Creating functions to calculate RMSE"
   ]
  },
  {
   "cell_type": "code",
   "execution_count": 10,
   "metadata": {},
   "outputs": [],
   "source": [
    "n_folds=10\n",
    "kf = KFold(n_splits=n_folds, shuffle=True, random_state=21)\n",
    "\n",
    "def cv_rmse(model):\n",
    "    rmse = np.sqrt(-cross_val_score(model, X_train, y_train, scoring=\"neg_mean_squared_error\", cv = kf))\n",
    "    return(rmse)\n",
    "\n",
    "def rmsey(y_train, y_pred):\n",
    "    rmsey = np.sqrt(mean_squared_error(y_train, y_pred))\n",
    "    return(rmsey)\n"
   ]
  },
  {
   "cell_type": "code",
   "execution_count": 11,
   "metadata": {},
   "outputs": [
    {
     "data": {
      "text/plain": [
       "'\\nparam_grid = {\"kernel\":np.array([\"linear\", \"rbf\", \"sigmoid\", \"precomputed\"]),\\n                \"gamma\":np.array([0.0001, 0.002, 0.003]),\\n                \"epsilon\":np.array([0.002, 0.005, 0.008]),\\n                \"C\":np.array([5,10,15])}\\nmodel = SVR()\\ngrid = RandomizedSearchCV(estimator=model, param_distributions=param_grid, scoring=\\'neg_mean_squared_error\\', cv=kf)\\ngrid_result = grid.fit(X_train, y_train)\\n\\n# muestra resultados de la busqueda grid\\nprint(\"Mejor neg_mean_squared_error: %f con hyperparametro %s\" % (grid_result.best_score_, grid_result.best_params_))\\nmeans = grid_result.cv_results_[\\'mean_test_score\\']\\nstds = grid_result.cv_results_[\\'std_test_score\\']\\nparams = grid_result.cv_results_[\\'params\\']\\nfor mean, stdev, param in zip(means, stds, params):\\n    print(\"%f (%f) with: %r\" % (mean, stdev, param))\\n    \\n'"
      ]
     },
     "execution_count": 11,
     "metadata": {},
     "output_type": "execute_result"
    }
   ],
   "source": [
    "\"\"\"\n",
    "param_grid = {\"kernel\":np.array([\"linear\", \"rbf\", \"sigmoid\", \"precomputed\"]),\n",
    "                \"gamma\":np.array([0.0001, 0.002, 0.003]),\n",
    "                \"epsilon\":np.array([0.002, 0.005, 0.008]),\n",
    "                \"C\":np.array([5,10,15])}\n",
    "model = SVR()\n",
    "grid = RandomizedSearchCV(estimator=model, param_distributions=param_grid, scoring='neg_mean_squared_error', cv=kf)\n",
    "grid_result = grid.fit(X_train, y_train)\n",
    "\n",
    "# muestra resultados de la busqueda grid\n",
    "print(\"Mejor neg_mean_squared_error: %f con hyperparametro %s\" % (grid_result.best_score_, grid_result.best_params_))\n",
    "means = grid_result.cv_results_['mean_test_score']\n",
    "stds = grid_result.cv_results_['std_test_score']\n",
    "params = grid_result.cv_results_['params']\n",
    "for mean, stdev, param in zip(means, stds, params):\n",
    "    print(\"%f (%f) with: %r\" % (mean, stdev, param))\n",
    "    \n",
    "\"\"\""
   ]
  },
  {
   "cell_type": "markdown",
   "metadata": {},
   "source": [
    "Search the best basic model through a pipeline"
   ]
  },
  {
   "cell_type": "code",
   "execution_count": 12,
   "metadata": {},
   "outputs": [
    {
     "name": "stdout",
     "output_type": "stream",
     "text": [
      "SVR: 0.1446 (0.0258)\n",
      "Ridge: 0.1105 (0.0125)\n",
      "ElasticNet: 0.3994 (0.0174)\n",
      "Lasso: 0.1096 (0.0123)\n",
      "Bayesian: 0.1103 (0.0128)\n",
      "RandomForest: 0.1322 (0.0123)\n",
      "GBR: 0.1207 (0.0134)\n",
      "XGB: 0.1272 (0.0135)\n"
     ]
    }
   ],
   "source": [
    "pipeline = []\n",
    "pipeline.append((\"SVR\", make_pipeline(RobustScaler(), SVR())))\n",
    "pipeline.append((\"Ridge\", make_pipeline(RobustScaler(), RidgeCV(cv=kf))))\n",
    "pipeline.append((\"ElasticNet\", make_pipeline(RobustScaler(), ElasticNet())))\n",
    "pipeline.append((\"Lasso\", make_pipeline(RobustScaler(), LassoCV(cv=kf))))\n",
    "pipeline.append((\"Bayesian\", make_pipeline(RobustScaler(), BayesianRidge())))\n",
    "pipeline.append((\"RandomForest\", make_pipeline(RobustScaler(), RandomForestRegressor())))\n",
    "pipeline.append((\"GBR\", make_pipeline(RobustScaler(), GradientBoostingRegressor())))\n",
    "pipeline.append((\"XGB\", make_pipeline(RobustScaler(), xgb.XGBRegressor())))\n",
    "\n",
    "result=[]\n",
    "name=[]\n",
    "\n",
    "for modelname, pipe in pipeline:\n",
    "    print(\"{}: {:.4f} ({:.4f})\".format(modelname, cv_rmse(pipe).mean(), cv_rmse(pipe).std()))\n",
    "    result.append(cv_rmse(pipe))\n",
    "    name.append(modelname)"
   ]
  },
  {
   "cell_type": "code",
   "execution_count": 13,
   "metadata": {},
   "outputs": [
    {
     "data": {
      "image/png": "[encoded data removed]",
      "text/plain": [
       "<Figure size 1000x700 with 1 Axes>"
      ]
     },
     "metadata": {},
     "output_type": "display_data"
    }
   ],
   "source": [
    "fig, ax = plt.subplots(figsize=(10,7))\n",
    "sns.boxplot(result)\n",
    "ax.set_xticklabels(name)\n",
    "plt.show()\n"
   ]
  },
  {
   "cell_type": "markdown",
   "metadata": {},
   "source": [
    "Deeping in each model"
   ]
  },
  {
   "cell_type": "code",
   "execution_count": 14,
   "metadata": {},
   "outputs": [
    {
     "name": "stdout",
     "output_type": "stream",
     "text": [
      "Ridge: 0.1104 (0.0132)\n"
     ]
    }
   ],
   "source": [
    "ridge_alphas = [0.1, 0.3, 1, 3, 5, 10, 15, 18, 20, 30, 50, 75, 100]\n",
    "ridge = make_pipeline(RobustScaler(), RidgeCV(alphas=ridge_alphas, cv=kf))\n",
    "print(\"Ridge: {:.4f} ({:.4f})\".format(cv_rmse(ridge).mean(), cv_rmse(ridge).std()))"
   ]
  },
  {
   "cell_type": "code",
   "execution_count": 15,
   "metadata": {},
   "outputs": [
    {
     "name": "stdout",
     "output_type": "stream",
     "text": [
      "Lasso: 0.1096 (0.0124)\n"
     ]
    }
   ],
   "source": [
    "lasso = make_pipeline(RobustScaler(), LassoCV(alphas=[0.0003,0.0004,0.0005], cv=kf))\n",
    "print(\"Lasso: {:.4f} ({:.4f})\".format(cv_rmse(lasso).mean(), cv_rmse(lasso).std()))"
   ]
  },
  {
   "cell_type": "code",
   "execution_count": 16,
   "metadata": {},
   "outputs": [
    {
     "name": "stdout",
     "output_type": "stream",
     "text": [
      "SVR: 0.1100 (0.0136)\n"
     ]
    }
   ],
   "source": [
    "svr = make_pipeline(RobustScaler(), SVR(C= 20, epsilon= 0.008, gamma=0.0002))\n",
    "print(\"SVR: {:.4f} ({:.4f})\".format(cv_rmse(svr).mean(), cv_rmse(svr).std()))"
   ]
  },
  {
   "cell_type": "code",
   "execution_count": 17,
   "metadata": {},
   "outputs": [
    {
     "name": "stdout",
     "output_type": "stream",
     "text": [
      "ElasticNet: 0.1100 (0.0131)\n"
     ]
    }
   ],
   "source": [
    "elasticnet = make_pipeline(RobustScaler(), ElasticNet(alpha=0.015, l1_ratio=0.008, random_state=21))\n",
    "print(\"ElasticNet: {:.4f} ({:.4f})\".format(cv_rmse(elasticnet).mean(), cv_rmse(elasticnet).std()))"
   ]
  },
  {
   "cell_type": "code",
   "execution_count": 18,
   "metadata": {},
   "outputs": [
    {
     "name": "stdout",
     "output_type": "stream",
     "text": [
      "GradientBoosting: 0.1149 (0.0150)\n"
     ]
    }
   ],
   "source": [
    "gbr = make_pipeline(RobustScaler(), GradientBoostingRegressor(n_estimators=3000, learning_rate=0.05,\n",
    "                                   max_depth=4, max_features='sqrt',\n",
    "                                   min_samples_leaf=15, min_samples_split=10, \n",
    "                                   loss='huber', random_state=42))\n",
    "print(\"GradientBoosting: {:.4f} ({:.4f})\".format(cv_rmse(gbr).mean(), cv_rmse(gbr).std()))"
   ]
  },
  {
   "cell_type": "code",
   "execution_count": 19,
   "metadata": {},
   "outputs": [
    {
     "name": "stdout",
     "output_type": "stream",
     "text": [
      "[15:39:18] WARNING: C:\\buildkite-agent\\builds\\buildkite-windows-cpu-autoscaling-group-i-0fdc6d574b9c0d168-1\\xgboost\\xgboost-ci-windows\\src\\learner.cc:767: \n",
      "Parameters: { \"silent\" } are not used.\n",
      "\n",
      "[15:39:22] WARNING: C:\\buildkite-agent\\builds\\buildkite-windows-cpu-autoscaling-group-i-0fdc6d574b9c0d168-1\\xgboost\\xgboost-ci-windows\\src\\learner.cc:767: \n",
      "Parameters: { \"silent\" } are not used.\n",
      "\n",
      "[15:39:26] WARNING: C:\\buildkite-agent\\builds\\buildkite-windows-cpu-autoscaling-group-i-0fdc6d574b9c0d168-1\\xgboost\\xgboost-ci-windows\\src\\learner.cc:767: \n",
      "Parameters: { \"silent\" } are not used.\n",
      "\n",
      "[15:39:30] WARNING: C:\\buildkite-agent\\builds\\buildkite-windows-cpu-autoscaling-group-i-0fdc6d574b9c0d168-1\\xgboost\\xgboost-ci-windows\\src\\learner.cc:767: \n",
      "Parameters: { \"silent\" } are not used.\n",
      "\n",
      "[15:39:34] WARNING: C:\\buildkite-agent\\builds\\buildkite-windows-cpu-autoscaling-group-i-0fdc6d574b9c0d168-1\\xgboost\\xgboost-ci-windows\\src\\learner.cc:767: \n",
      "Parameters: { \"silent\" } are not used.\n",
      "\n",
      "[15:39:38] WARNING: C:\\buildkite-agent\\builds\\buildkite-windows-cpu-autoscaling-group-i-0fdc6d574b9c0d168-1\\xgboost\\xgboost-ci-windows\\src\\learner.cc:767: \n",
      "Parameters: { \"silent\" } are not used.\n",
      "\n",
      "[15:39:42] WARNING: C:\\buildkite-agent\\builds\\buildkite-windows-cpu-autoscaling-group-i-0fdc6d574b9c0d168-1\\xgboost\\xgboost-ci-windows\\src\\learner.cc:767: \n",
      "Parameters: { \"silent\" } are not used.\n",
      "\n",
      "[15:39:46] WARNING: C:\\buildkite-agent\\builds\\buildkite-windows-cpu-autoscaling-group-i-0fdc6d574b9c0d168-1\\xgboost\\xgboost-ci-windows\\src\\learner.cc:767: \n",
      "Parameters: { \"silent\" } are not used.\n",
      "\n",
      "[15:39:50] WARNING: C:\\buildkite-agent\\builds\\buildkite-windows-cpu-autoscaling-group-i-0fdc6d574b9c0d168-1\\xgboost\\xgboost-ci-windows\\src\\learner.cc:767: \n",
      "Parameters: { \"silent\" } are not used.\n",
      "\n",
      "[15:39:55] WARNING: C:\\buildkite-agent\\builds\\buildkite-windows-cpu-autoscaling-group-i-0fdc6d574b9c0d168-1\\xgboost\\xgboost-ci-windows\\src\\learner.cc:767: \n",
      "Parameters: { \"silent\" } are not used.\n",
      "\n",
      "[15:39:59] WARNING: C:\\buildkite-agent\\builds\\buildkite-windows-cpu-autoscaling-group-i-0fdc6d574b9c0d168-1\\xgboost\\xgboost-ci-windows\\src\\learner.cc:767: \n",
      "Parameters: { \"silent\" } are not used.\n",
      "\n",
      "[15:40:03] WARNING: C:\\buildkite-agent\\builds\\buildkite-windows-cpu-autoscaling-group-i-0fdc6d574b9c0d168-1\\xgboost\\xgboost-ci-windows\\src\\learner.cc:767: \n",
      "Parameters: { \"silent\" } are not used.\n",
      "\n",
      "[15:40:07] WARNING: C:\\buildkite-agent\\builds\\buildkite-windows-cpu-autoscaling-group-i-0fdc6d574b9c0d168-1\\xgboost\\xgboost-ci-windows\\src\\learner.cc:767: \n",
      "Parameters: { \"silent\" } are not used.\n",
      "\n",
      "[15:40:11] WARNING: C:\\buildkite-agent\\builds\\buildkite-windows-cpu-autoscaling-group-i-0fdc6d574b9c0d168-1\\xgboost\\xgboost-ci-windows\\src\\learner.cc:767: \n",
      "Parameters: { \"silent\" } are not used.\n",
      "\n",
      "[15:40:15] WARNING: C:\\buildkite-agent\\builds\\buildkite-windows-cpu-autoscaling-group-i-0fdc6d574b9c0d168-1\\xgboost\\xgboost-ci-windows\\src\\learner.cc:767: \n",
      "Parameters: { \"silent\" } are not used.\n",
      "\n",
      "[15:40:20] WARNING: C:\\buildkite-agent\\builds\\buildkite-windows-cpu-autoscaling-group-i-0fdc6d574b9c0d168-1\\xgboost\\xgboost-ci-windows\\src\\learner.cc:767: \n",
      "Parameters: { \"silent\" } are not used.\n",
      "\n",
      "[15:40:24] WARNING: C:\\buildkite-agent\\builds\\buildkite-windows-cpu-autoscaling-group-i-0fdc6d574b9c0d168-1\\xgboost\\xgboost-ci-windows\\src\\learner.cc:767: \n",
      "Parameters: { \"silent\" } are not used.\n",
      "\n",
      "[15:40:28] WARNING: C:\\buildkite-agent\\builds\\buildkite-windows-cpu-autoscaling-group-i-0fdc6d574b9c0d168-1\\xgboost\\xgboost-ci-windows\\src\\learner.cc:767: \n",
      "Parameters: { \"silent\" } are not used.\n",
      "\n",
      "[15:40:32] WARNING: C:\\buildkite-agent\\builds\\buildkite-windows-cpu-autoscaling-group-i-0fdc6d574b9c0d168-1\\xgboost\\xgboost-ci-windows\\src\\learner.cc:767: \n",
      "Parameters: { \"silent\" } are not used.\n",
      "\n",
      "[15:40:37] WARNING: C:\\buildkite-agent\\builds\\buildkite-windows-cpu-autoscaling-group-i-0fdc6d574b9c0d168-1\\xgboost\\xgboost-ci-windows\\src\\learner.cc:767: \n",
      "Parameters: { \"silent\" } are not used.\n",
      "\n",
      "XGB: 0.1141 (0.0131)\n"
     ]
    }
   ],
   "source": [
    "xgb = make_pipeline(RobustScaler(), xgb.XGBRegressor(colsample_bytree=0.4603, gamma=0.0468, \n",
    "                             learning_rate=0.05, max_depth=3, \n",
    "                             min_child_weight=1.7817, n_estimators=2200,\n",
    "                             reg_alpha=0.4640, reg_lambda=0.8571,\n",
    "                             subsample=0.5213, silent=1,\n",
    "                             random_state =7, nthread = -1))\n",
    "print(\"XGB: {:.4f} ({:.4f})\".format(cv_rmse(xgb).mean(), cv_rmse(xgb).std()))"
   ]
  },
  {
   "cell_type": "markdown",
   "metadata": {},
   "source": [
    "Fit models"
   ]
  },
  {
   "cell_type": "code",
   "execution_count": 20,
   "metadata": {},
   "outputs": [
    {
     "name": "stdout",
     "output_type": "stream",
     "text": [
      "[15:40:54] WARNING: C:\\buildkite-agent\\builds\\buildkite-windows-cpu-autoscaling-group-i-0fdc6d574b9c0d168-1\\xgboost\\xgboost-ci-windows\\src\\learner.cc:767: \n",
      "Parameters: { \"silent\" } are not used.\n",
      "\n"
     ]
    }
   ],
   "source": [
    "ridge_model = ridge.fit(X_train, y_train)\n",
    "lasso_model = lasso.fit(X_train, y_train)\n",
    "svr_model = svr.fit(X_train, y_train)\n",
    "elasticnet_model = elasticnet.fit(X_train, y_train)\n",
    "gbr_model = gbr.fit(X_train, y_train)\n",
    "xgb_model = xgb.fit(X_train, y_train)"
   ]
  },
  {
   "cell_type": "markdown",
   "metadata": {},
   "source": [
    "Blend models and get predictions"
   ]
  },
  {
   "cell_type": "code",
   "execution_count": 21,
   "metadata": {},
   "outputs": [],
   "source": [
    "ridge_pred = ridge_model.predict(X_train)\n",
    "lasso_pred = lasso_model.predict(X_train)\n",
    "svr_pred = svr_model.predict(X_train)\n",
    "elasticnet_pred = elasticnet_model.predict(X_train)\n",
    "xgb_pred = xgb_model.predict(X_train)\n",
    "gbr_pred = gbr_model.predict(X_train)"
   ]
  },
  {
   "cell_type": "code",
   "execution_count": 22,
   "metadata": {},
   "outputs": [],
   "source": [
    "score = []\n",
    "ridge_score = rmsey(y_train, ridge_pred)\n",
    "lasso_score = rmsey(y_train, lasso_pred)\n",
    "svr_score = rmsey(y_train, svr_pred)\n",
    "elasticnet_score = rmsey(y_train, elasticnet_pred)\n",
    "xgb_score = rmsey(y_train, xgb_pred)\n",
    "gbr_score = rmsey(y_train, gbr_pred)"
   ]
  },
  {
   "cell_type": "code",
   "execution_count": 23,
   "metadata": {},
   "outputs": [
    {
     "name": "stdout",
     "output_type": "stream",
     "text": [
      "0.0938271142008959 0.09708690703764553 0.0953857444190059 0.09740710443366789 0.0782961102894048 0.05471900899391118\n"
     ]
    }
   ],
   "source": [
    "print(ridge_score, lasso_score, svr_score, elasticnet_score, xgb_score, gbr_score)"
   ]
  },
  {
   "cell_type": "code",
   "execution_count": 24,
   "metadata": {},
   "outputs": [],
   "source": [
    "def blended():\n",
    "    return ((0.2 * ridge_pred) + \\\n",
    "            (0.2 * xgb_pred) + \\\n",
    "            (0.6 * gbr_pred))"
   ]
  },
  {
   "cell_type": "code",
   "execution_count": 25,
   "metadata": {},
   "outputs": [
    {
     "name": "stdout",
     "output_type": "stream",
     "text": [
      "0.061876597735724403\n"
     ]
    }
   ],
   "source": [
    "blended_score = rmsey(y_train, blended())\n",
    "print(blended_score)"
   ]
  },
  {
   "cell_type": "markdown",
   "metadata": {},
   "source": [
    "Ensemble"
   ]
  },
  {
   "cell_type": "code",
   "execution_count": 26,
   "metadata": {},
   "outputs": [],
   "source": [
    "ridge_pred_test = ridge_model.predict(X_test)\n",
    "xgb_pred_test = xgb_model.predict(X_test)\n",
    "gbr_pred_test = gbr_model.predict(X_test)"
   ]
  },
  {
   "cell_type": "code",
   "execution_count": 27,
   "metadata": {},
   "outputs": [
    {
     "data": {
      "text/plain": [
       "(1459,)"
      ]
     },
     "execution_count": 27,
     "metadata": {},
     "output_type": "execute_result"
    }
   ],
   "source": [
    "ensemble = 0.2 * ridge_pred_test + 0.2 * xgb_pred_test + 0.6 * gbr_pred_test\n",
    "ensemble.shape"
   ]
  },
  {
   "cell_type": "markdown",
   "metadata": {},
   "source": [
    "Sunmission"
   ]
  },
  {
   "cell_type": "code",
   "execution_count": 28,
   "metadata": {},
   "outputs": [
    {
     "data": {
      "text/plain": [
       "\"sub = pd.DataFrame()\\nsub['Id'] = Id_test\\nsub['SalePrice'] = np.exp(ensemble)\\nprint(sub.head())\\nsub.to_csv('../data/submission.csv',index=False)\""
      ]
     },
     "execution_count": 28,
     "metadata": {},
     "output_type": "execute_result"
    }
   ],
   "source": [
    "\"\"\"sub = pd.DataFrame()\n",
    "sub['Id'] = Id_test\n",
    "sub['SalePrice'] = np.exp(ensemble)\n",
    "print(sub.head())\n",
    "sub.to_csv('../data/submission.csv',index=False)\"\"\""
   ]
  }
 ],
 "metadata": {
  "kernelspec": {
   "display_name": "Python 3",
   "language": "python",
   "name": "python3"
  },
  "language_info": {
   "codemirror_mode": {
    "name": "ipython",
    "version": 3
   },
   "file_extension": ".py",
   "mimetype": "text/x-python",
   "name": "python",
   "nbconvert_exporter": "python",
   "pygments_lexer": "ipython3",
   "version": "3.11.4"
  },
  "orig_nbformat": 4
 },
 "nbformat": 4,
 "nbformat_minor": 2
}
